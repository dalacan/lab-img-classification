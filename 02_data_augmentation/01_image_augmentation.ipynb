{
 "cells": [
  {
   "cell_type": "markdown",
   "id": "1d53cb83-fe30-4ea0-b321-e6c0b87e9941",
   "metadata": {
    "tags": []
   },
   "source": [
    "# Lab 1: Image Augmentation Lab\n",
    "\n",
    "In this lab we will walkthrough a typical Amazon SageMaker Datawrangler flow for creating augmented images."
   ]
  },
  {
   "cell_type": "code",
   "execution_count": null,
   "id": "8d3cdeb3-e580-4e85-bb3c-44561d41a37c",
   "metadata": {
    "tags": []
   },
   "outputs": [],
   "source": [
    "%matplotlib inline"
   ]
  },
  {
   "cell_type": "code",
   "execution_count": null,
   "id": "f7cf7229-a51c-4657-89de-39878c03619d",
   "metadata": {
    "tags": []
   },
   "outputs": [],
   "source": [
    "import sagemaker\n",
    "import matplotlib.pyplot as plt\n",
    "from PIL import Image\n",
    "bucket=sagemaker.Session().default_bucket()\n",
    "prefix = 'computer_vision-unicorn_gym/image_augmentation_data'"
   ]
  },
  {
   "cell_type": "code",
   "execution_count": null,
   "id": "8d3fdc30-a6fd-489b-8c6b-c38ba3d65505",
   "metadata": {
    "tags": []
   },
   "outputs": [],
   "source": [
    "!mkdir image_augmentation_data"
   ]
  },
  {
   "cell_type": "markdown",
   "id": "0a8f88be-baab-4aa3-84b0-fc2e0046e653",
   "metadata": {},
   "source": [
    "Unpack our dataset"
   ]
  },
  {
   "cell_type": "code",
   "execution_count": null,
   "id": "56275db8-b396-49e7-8354-713996fd6ac8",
   "metadata": {
    "tags": []
   },
   "outputs": [],
   "source": [
    "!tar -xzvf 130_tree_sparrow.tar.gz -C ./image_augmentation_data --no-same-owner"
   ]
  },
  {
   "cell_type": "markdown",
   "id": "88c69b2e-4924-4711-91ae-42673839c809",
   "metadata": {},
   "source": [
    "## Upload dataset to S3"
   ]
  },
  {
   "cell_type": "code",
   "execution_count": null,
   "id": "c1507e27-2782-4b7d-a7c6-de23ad3894a9",
   "metadata": {
    "tags": []
   },
   "outputs": [],
   "source": [
    "!aws s3 cp --recursive  image_augmentation_data s3://{bucket}/{prefix}"
   ]
  },
  {
   "cell_type": "code",
   "execution_count": null,
   "id": "64412026-7ab4-4964-9738-89a54d68e693",
   "metadata": {
    "tags": []
   },
   "outputs": [],
   "source": [
    "# !rm -rf image_augmentation_data"
   ]
  },
  {
   "cell_type": "code",
   "execution_count": null,
   "id": "bb071d4e-2fa2-4056-8ff2-480cc705329f",
   "metadata": {
    "tags": []
   },
   "outputs": [],
   "source": [
    "# Your S3 Bucket\n",
    "print(\"Your S3 Bucket Name: \", bucket)"
   ]
  },
  {
   "cell_type": "markdown",
   "id": "6d2acffe-be2a-41e3-af79-e99dd1ee8b62",
   "metadata": {},
   "source": [
    "## Image Processing in Data Wrangler\n",
    "\n",
    "1. Right click on `Image-DataWrangler_Capabilities.flow` file, open with `Editor`\n",
    "2. Replace the **all** instances of the string `BUCKET_NAME` with your bucket name for the `s3Uri` or `output_path` variable\n",
    "\n",
    "![Update Bucket](img/update_bucket.png)\n",
    "\n",
    "3. Save the bucket file and open the `Image-DataWrangler_Capabilities.flow` file with Amazon SageMaker DataWrangler\n",
    "4. Create a data wrangler flow job"
   ]
  },
  {
   "cell_type": "markdown",
   "id": "e02eb894-53ea-48cd-95ea-ccb9c96d23c0",
   "metadata": {},
   "source": [
    "## Download and preview augmented images"
   ]
  },
  {
   "cell_type": "code",
   "execution_count": null,
   "id": "87b0d746-e27b-493a-b96f-021975a49261",
   "metadata": {
    "tags": []
   },
   "outputs": [],
   "source": [
    "import os\n",
    "\n",
    "augmented_images_base = 'augmented_data'\n",
    "\n",
    "color_suffix = 'color'\n",
    "blur_suffix = 'blur'\n",
    "corrupt_suffix = 'corrupt'\n",
    "enhanced_suffix = 'enhanced'\n",
    "\n",
    "color_dir = os.path.join(augmented_images_base, color_suffix)\n",
    "blur_dir = os.path.join(augmented_images_base, blur_suffix)\n",
    "corrupt_dir = os.path.join(augmented_images_base, corrupt_suffix)\n",
    "enhanced_dir = os.path.join(augmented_images_base, enhanced_suffix)\n",
    "\n",
    "if not os.path.exists(augmented_images_base):\n",
    "    os.mkdir(augmented_images_base)\n",
    "\n",
    "if not os.path.exists(color_dir):\n",
    "    os.mkdir(color_dir)\n",
    "\n",
    "if not os.path.exists(blur_dir):\n",
    "    os.mkdir(blur_dir)\n",
    "    \n",
    "if not os.path.exists(corrupt_dir):\n",
    "    os.mkdir(corrupt_dir)\n",
    "\n",
    "if not os.path.exists(enhanced_dir):\n",
    "    os.mkdir(enhanced_dir)"
   ]
  },
  {
   "cell_type": "code",
   "execution_count": null,
   "id": "20ea9f80-cff5-42ba-9aec-607a15c6a25d",
   "metadata": {
    "scrolled": true,
    "tags": []
   },
   "outputs": [],
   "source": [
    "prefix = 'computer_vision-unicorn_gym/image_augmentation_output_data_wrangler'\n",
    "\n",
    "!aws s3 cp --recursive s3://{bucket}/{prefix}/{color_suffix} {color_dir}\n",
    "!aws s3 cp --recursive s3://{bucket}/{prefix}/{blur_suffix} {blur_dir}\n",
    "!aws s3 cp --recursive s3://{bucket}/{prefix}/{corrupt_suffix} {corrupt_dir}\n",
    "!aws s3 cp --recursive s3://{bucket}/{prefix}/{enhanced_suffix} {enhanced_dir}"
   ]
  },
  {
   "cell_type": "code",
   "execution_count": null,
   "id": "cc51cc6e-3e15-4bd6-a3e9-28d57550b401",
   "metadata": {
    "tags": []
   },
   "outputs": [],
   "source": [
    "import matplotlib.pyplot as plt\n",
    "from PIL import Image"
   ]
  },
  {
   "cell_type": "code",
   "execution_count": null,
   "id": "5b78ad7e-eacf-4359-816f-e6fc596f3ba9",
   "metadata": {
    "tags": []
   },
   "outputs": [],
   "source": [
    "sample_filename = 'Tree_Sparrow_0005_122949.jpg'"
   ]
  },
  {
   "cell_type": "code",
   "execution_count": null,
   "id": "e0386d40-5bd3-4a3c-8c40-37daa1714094",
   "metadata": {
    "tags": []
   },
   "outputs": [],
   "source": [
    "def get_sample(input_dir, sample_name):\n",
    "    for root, dirs, files in os.walk(input_dir):\n",
    "        for file in files:\n",
    "            if sample_name == file:\n",
    "                return os.path.join(root, file)"
   ]
  },
  {
   "cell_type": "code",
   "execution_count": null,
   "id": "587b0c62-227a-47d6-8919-3c74b1acc8fa",
   "metadata": {
    "tags": []
   },
   "outputs": [],
   "source": [
    "get_sample(color_dir, sample_filename)"
   ]
  },
  {
   "cell_type": "code",
   "execution_count": null,
   "id": "eb34e48b-9188-4acc-9855-dcf3a0292fa8",
   "metadata": {
    "tags": []
   },
   "outputs": [],
   "source": [
    "original_img = Image.open(os.path.join('image_augmentation_data', '130_tree_sparrow', sample_filename))\n",
    "blur_img = Image.open(get_sample(blur_dir, sample_filename))\n",
    "color_img = Image.open(get_sample(color_dir, sample_filename))\n",
    "corrupt_img = Image.open(get_sample(corrupt_dir, sample_filename))\n",
    "enhanced_img = Image.open(get_sample(enhanced_dir, sample_filename))"
   ]
  },
  {
   "cell_type": "code",
   "execution_count": null,
   "id": "2c43181a-0edc-4473-9262-74e3847210fd",
   "metadata": {
    "tags": []
   },
   "outputs": [],
   "source": [
    "plt.figure(figsize=(15,50))\n",
    "plt.subplot(1,5,1)\n",
    "plt.imshow(original_img)\n",
    "plt.title(\"Original image\")\n",
    "plt.axis(\"off\")\n",
    "plt.subplot(1,5, 2)\n",
    "plt.imshow(blur_img)\n",
    "plt.title(\"Blur image\")\n",
    "plt.axis(\"off\")\n",
    "plt.subplot(1,5, 3)\n",
    "plt.imshow(color_img)\n",
    "plt.title(\"Colorized image\")\n",
    "plt.axis(\"off\")\n",
    "plt.subplot(1,5, 4)\n",
    "plt.imshow(corrupt_img)\n",
    "plt.title(\"Corrupt image\")\n",
    "plt.axis(\"off\")\n",
    "plt.subplot(1,5, 5)\n",
    "plt.imshow(enhanced_img)\n",
    "plt.title(\"Enhanced image\")\n",
    "plt.axis(\"off\")\n",
    "plt.show()"
   ]
  },
  {
   "cell_type": "markdown",
   "id": "6aba038f-7436-4ba6-b5a1-6284cc80d79e",
   "metadata": {},
   "source": [
    "## Clean up resource"
   ]
  },
  {
   "cell_type": "code",
   "execution_count": null,
   "id": "429996f3-3290-4f82-adcf-520504f7f111",
   "metadata": {},
   "outputs": [],
   "source": [
    "!aws s3 rm --recursive s3://{BUCKET_NAME}/computer_vision-unicorn_gym/image_augmentation_data/\n",
    "!aws s3 rm --recursive s3://{bucket}/{prefix}/{color_suffix}/\n",
    "!aws s3 rm --recursive s3://{bucket}/{prefix}/{blur_suffix}/\n",
    "!aws s3 rm --recursive s3://{bucket}/{prefix}/{corrupt_suffix}/\n",
    "!aws s3 rm --recursive s3://{bucket}/{prefix}/{enhanced_suffix}/"
   ]
  }
 ],
 "metadata": {
  "availableInstances": [
   {
    "_defaultOrder": 0,
    "_isFastLaunch": true,
    "category": "General purpose",
    "gpuNum": 0,
    "hideHardwareSpecs": false,
    "memoryGiB": 4,
    "name": "ml.t3.medium",
    "vcpuNum": 2
   },
   {
    "_defaultOrder": 1,
    "_isFastLaunch": false,
    "category": "General purpose",
    "gpuNum": 0,
    "hideHardwareSpecs": false,
    "memoryGiB": 8,
    "name": "ml.t3.large",
    "vcpuNum": 2
   },
   {
    "_defaultOrder": 2,
    "_isFastLaunch": false,
    "category": "General purpose",
    "gpuNum": 0,
    "hideHardwareSpecs": false,
    "memoryGiB": 16,
    "name": "ml.t3.xlarge",
    "vcpuNum": 4
   },
   {
    "_defaultOrder": 3,
    "_isFastLaunch": false,
    "category": "General purpose",
    "gpuNum": 0,
    "hideHardwareSpecs": false,
    "memoryGiB": 32,
    "name": "ml.t3.2xlarge",
    "vcpuNum": 8
   },
   {
    "_defaultOrder": 4,
    "_isFastLaunch": true,
    "category": "General purpose",
    "gpuNum": 0,
    "hideHardwareSpecs": false,
    "memoryGiB": 8,
    "name": "ml.m5.large",
    "vcpuNum": 2
   },
   {
    "_defaultOrder": 5,
    "_isFastLaunch": false,
    "category": "General purpose",
    "gpuNum": 0,
    "hideHardwareSpecs": false,
    "memoryGiB": 16,
    "name": "ml.m5.xlarge",
    "vcpuNum": 4
   },
   {
    "_defaultOrder": 6,
    "_isFastLaunch": false,
    "category": "General purpose",
    "gpuNum": 0,
    "hideHardwareSpecs": false,
    "memoryGiB": 32,
    "name": "ml.m5.2xlarge",
    "vcpuNum": 8
   },
   {
    "_defaultOrder": 7,
    "_isFastLaunch": false,
    "category": "General purpose",
    "gpuNum": 0,
    "hideHardwareSpecs": false,
    "memoryGiB": 64,
    "name": "ml.m5.4xlarge",
    "vcpuNum": 16
   },
   {
    "_defaultOrder": 8,
    "_isFastLaunch": false,
    "category": "General purpose",
    "gpuNum": 0,
    "hideHardwareSpecs": false,
    "memoryGiB": 128,
    "name": "ml.m5.8xlarge",
    "vcpuNum": 32
   },
   {
    "_defaultOrder": 9,
    "_isFastLaunch": false,
    "category": "General purpose",
    "gpuNum": 0,
    "hideHardwareSpecs": false,
    "memoryGiB": 192,
    "name": "ml.m5.12xlarge",
    "vcpuNum": 48
   },
   {
    "_defaultOrder": 10,
    "_isFastLaunch": false,
    "category": "General purpose",
    "gpuNum": 0,
    "hideHardwareSpecs": false,
    "memoryGiB": 256,
    "name": "ml.m5.16xlarge",
    "vcpuNum": 64
   },
   {
    "_defaultOrder": 11,
    "_isFastLaunch": false,
    "category": "General purpose",
    "gpuNum": 0,
    "hideHardwareSpecs": false,
    "memoryGiB": 384,
    "name": "ml.m5.24xlarge",
    "vcpuNum": 96
   },
   {
    "_defaultOrder": 12,
    "_isFastLaunch": false,
    "category": "General purpose",
    "gpuNum": 0,
    "hideHardwareSpecs": false,
    "memoryGiB": 8,
    "name": "ml.m5d.large",
    "vcpuNum": 2
   },
   {
    "_defaultOrder": 13,
    "_isFastLaunch": false,
    "category": "General purpose",
    "gpuNum": 0,
    "hideHardwareSpecs": false,
    "memoryGiB": 16,
    "name": "ml.m5d.xlarge",
    "vcpuNum": 4
   },
   {
    "_defaultOrder": 14,
    "_isFastLaunch": false,
    "category": "General purpose",
    "gpuNum": 0,
    "hideHardwareSpecs": false,
    "memoryGiB": 32,
    "name": "ml.m5d.2xlarge",
    "vcpuNum": 8
   },
   {
    "_defaultOrder": 15,
    "_isFastLaunch": false,
    "category": "General purpose",
    "gpuNum": 0,
    "hideHardwareSpecs": false,
    "memoryGiB": 64,
    "name": "ml.m5d.4xlarge",
    "vcpuNum": 16
   },
   {
    "_defaultOrder": 16,
    "_isFastLaunch": false,
    "category": "General purpose",
    "gpuNum": 0,
    "hideHardwareSpecs": false,
    "memoryGiB": 128,
    "name": "ml.m5d.8xlarge",
    "vcpuNum": 32
   },
   {
    "_defaultOrder": 17,
    "_isFastLaunch": false,
    "category": "General purpose",
    "gpuNum": 0,
    "hideHardwareSpecs": false,
    "memoryGiB": 192,
    "name": "ml.m5d.12xlarge",
    "vcpuNum": 48
   },
   {
    "_defaultOrder": 18,
    "_isFastLaunch": false,
    "category": "General purpose",
    "gpuNum": 0,
    "hideHardwareSpecs": false,
    "memoryGiB": 256,
    "name": "ml.m5d.16xlarge",
    "vcpuNum": 64
   },
   {
    "_defaultOrder": 19,
    "_isFastLaunch": false,
    "category": "General purpose",
    "gpuNum": 0,
    "hideHardwareSpecs": false,
    "memoryGiB": 384,
    "name": "ml.m5d.24xlarge",
    "vcpuNum": 96
   },
   {
    "_defaultOrder": 20,
    "_isFastLaunch": false,
    "category": "General purpose",
    "gpuNum": 0,
    "hideHardwareSpecs": true,
    "memoryGiB": 0,
    "name": "ml.geospatial.interactive",
    "supportedImageNames": [
     "sagemaker-geospatial-v1-0"
    ],
    "vcpuNum": 0
   },
   {
    "_defaultOrder": 21,
    "_isFastLaunch": true,
    "category": "Compute optimized",
    "gpuNum": 0,
    "hideHardwareSpecs": false,
    "memoryGiB": 4,
    "name": "ml.c5.large",
    "vcpuNum": 2
   },
   {
    "_defaultOrder": 22,
    "_isFastLaunch": false,
    "category": "Compute optimized",
    "gpuNum": 0,
    "hideHardwareSpecs": false,
    "memoryGiB": 8,
    "name": "ml.c5.xlarge",
    "vcpuNum": 4
   },
   {
    "_defaultOrder": 23,
    "_isFastLaunch": false,
    "category": "Compute optimized",
    "gpuNum": 0,
    "hideHardwareSpecs": false,
    "memoryGiB": 16,
    "name": "ml.c5.2xlarge",
    "vcpuNum": 8
   },
   {
    "_defaultOrder": 24,
    "_isFastLaunch": false,
    "category": "Compute optimized",
    "gpuNum": 0,
    "hideHardwareSpecs": false,
    "memoryGiB": 32,
    "name": "ml.c5.4xlarge",
    "vcpuNum": 16
   },
   {
    "_defaultOrder": 25,
    "_isFastLaunch": false,
    "category": "Compute optimized",
    "gpuNum": 0,
    "hideHardwareSpecs": false,
    "memoryGiB": 72,
    "name": "ml.c5.9xlarge",
    "vcpuNum": 36
   },
   {
    "_defaultOrder": 26,
    "_isFastLaunch": false,
    "category": "Compute optimized",
    "gpuNum": 0,
    "hideHardwareSpecs": false,
    "memoryGiB": 96,
    "name": "ml.c5.12xlarge",
    "vcpuNum": 48
   },
   {
    "_defaultOrder": 27,
    "_isFastLaunch": false,
    "category": "Compute optimized",
    "gpuNum": 0,
    "hideHardwareSpecs": false,
    "memoryGiB": 144,
    "name": "ml.c5.18xlarge",
    "vcpuNum": 72
   },
   {
    "_defaultOrder": 28,
    "_isFastLaunch": false,
    "category": "Compute optimized",
    "gpuNum": 0,
    "hideHardwareSpecs": false,
    "memoryGiB": 192,
    "name": "ml.c5.24xlarge",
    "vcpuNum": 96
   },
   {
    "_defaultOrder": 29,
    "_isFastLaunch": true,
    "category": "Accelerated computing",
    "gpuNum": 1,
    "hideHardwareSpecs": false,
    "memoryGiB": 16,
    "name": "ml.g4dn.xlarge",
    "vcpuNum": 4
   },
   {
    "_defaultOrder": 30,
    "_isFastLaunch": false,
    "category": "Accelerated computing",
    "gpuNum": 1,
    "hideHardwareSpecs": false,
    "memoryGiB": 32,
    "name": "ml.g4dn.2xlarge",
    "vcpuNum": 8
   },
   {
    "_defaultOrder": 31,
    "_isFastLaunch": false,
    "category": "Accelerated computing",
    "gpuNum": 1,
    "hideHardwareSpecs": false,
    "memoryGiB": 64,
    "name": "ml.g4dn.4xlarge",
    "vcpuNum": 16
   },
   {
    "_defaultOrder": 32,
    "_isFastLaunch": false,
    "category": "Accelerated computing",
    "gpuNum": 1,
    "hideHardwareSpecs": false,
    "memoryGiB": 128,
    "name": "ml.g4dn.8xlarge",
    "vcpuNum": 32
   },
   {
    "_defaultOrder": 33,
    "_isFastLaunch": false,
    "category": "Accelerated computing",
    "gpuNum": 4,
    "hideHardwareSpecs": false,
    "memoryGiB": 192,
    "name": "ml.g4dn.12xlarge",
    "vcpuNum": 48
   },
   {
    "_defaultOrder": 34,
    "_isFastLaunch": false,
    "category": "Accelerated computing",
    "gpuNum": 1,
    "hideHardwareSpecs": false,
    "memoryGiB": 256,
    "name": "ml.g4dn.16xlarge",
    "vcpuNum": 64
   },
   {
    "_defaultOrder": 35,
    "_isFastLaunch": false,
    "category": "Accelerated computing",
    "gpuNum": 1,
    "hideHardwareSpecs": false,
    "memoryGiB": 61,
    "name": "ml.p3.2xlarge",
    "vcpuNum": 8
   },
   {
    "_defaultOrder": 36,
    "_isFastLaunch": false,
    "category": "Accelerated computing",
    "gpuNum": 4,
    "hideHardwareSpecs": false,
    "memoryGiB": 244,
    "name": "ml.p3.8xlarge",
    "vcpuNum": 32
   },
   {
    "_defaultOrder": 37,
    "_isFastLaunch": false,
    "category": "Accelerated computing",
    "gpuNum": 8,
    "hideHardwareSpecs": false,
    "memoryGiB": 488,
    "name": "ml.p3.16xlarge",
    "vcpuNum": 64
   },
   {
    "_defaultOrder": 38,
    "_isFastLaunch": false,
    "category": "Accelerated computing",
    "gpuNum": 8,
    "hideHardwareSpecs": false,
    "memoryGiB": 768,
    "name": "ml.p3dn.24xlarge",
    "vcpuNum": 96
   },
   {
    "_defaultOrder": 39,
    "_isFastLaunch": false,
    "category": "Memory Optimized",
    "gpuNum": 0,
    "hideHardwareSpecs": false,
    "memoryGiB": 16,
    "name": "ml.r5.large",
    "vcpuNum": 2
   },
   {
    "_defaultOrder": 40,
    "_isFastLaunch": false,
    "category": "Memory Optimized",
    "gpuNum": 0,
    "hideHardwareSpecs": false,
    "memoryGiB": 32,
    "name": "ml.r5.xlarge",
    "vcpuNum": 4
   },
   {
    "_defaultOrder": 41,
    "_isFastLaunch": false,
    "category": "Memory Optimized",
    "gpuNum": 0,
    "hideHardwareSpecs": false,
    "memoryGiB": 64,
    "name": "ml.r5.2xlarge",
    "vcpuNum": 8
   },
   {
    "_defaultOrder": 42,
    "_isFastLaunch": false,
    "category": "Memory Optimized",
    "gpuNum": 0,
    "hideHardwareSpecs": false,
    "memoryGiB": 128,
    "name": "ml.r5.4xlarge",
    "vcpuNum": 16
   },
   {
    "_defaultOrder": 43,
    "_isFastLaunch": false,
    "category": "Memory Optimized",
    "gpuNum": 0,
    "hideHardwareSpecs": false,
    "memoryGiB": 256,
    "name": "ml.r5.8xlarge",
    "vcpuNum": 32
   },
   {
    "_defaultOrder": 44,
    "_isFastLaunch": false,
    "category": "Memory Optimized",
    "gpuNum": 0,
    "hideHardwareSpecs": false,
    "memoryGiB": 384,
    "name": "ml.r5.12xlarge",
    "vcpuNum": 48
   },
   {
    "_defaultOrder": 45,
    "_isFastLaunch": false,
    "category": "Memory Optimized",
    "gpuNum": 0,
    "hideHardwareSpecs": false,
    "memoryGiB": 512,
    "name": "ml.r5.16xlarge",
    "vcpuNum": 64
   },
   {
    "_defaultOrder": 46,
    "_isFastLaunch": false,
    "category": "Memory Optimized",
    "gpuNum": 0,
    "hideHardwareSpecs": false,
    "memoryGiB": 768,
    "name": "ml.r5.24xlarge",
    "vcpuNum": 96
   },
   {
    "_defaultOrder": 47,
    "_isFastLaunch": false,
    "category": "Accelerated computing",
    "gpuNum": 1,
    "hideHardwareSpecs": false,
    "memoryGiB": 16,
    "name": "ml.g5.xlarge",
    "vcpuNum": 4
   },
   {
    "_defaultOrder": 48,
    "_isFastLaunch": false,
    "category": "Accelerated computing",
    "gpuNum": 1,
    "hideHardwareSpecs": false,
    "memoryGiB": 32,
    "name": "ml.g5.2xlarge",
    "vcpuNum": 8
   },
   {
    "_defaultOrder": 49,
    "_isFastLaunch": false,
    "category": "Accelerated computing",
    "gpuNum": 1,
    "hideHardwareSpecs": false,
    "memoryGiB": 64,
    "name": "ml.g5.4xlarge",
    "vcpuNum": 16
   },
   {
    "_defaultOrder": 50,
    "_isFastLaunch": false,
    "category": "Accelerated computing",
    "gpuNum": 1,
    "hideHardwareSpecs": false,
    "memoryGiB": 128,
    "name": "ml.g5.8xlarge",
    "vcpuNum": 32
   },
   {
    "_defaultOrder": 51,
    "_isFastLaunch": false,
    "category": "Accelerated computing",
    "gpuNum": 1,
    "hideHardwareSpecs": false,
    "memoryGiB": 256,
    "name": "ml.g5.16xlarge",
    "vcpuNum": 64
   },
   {
    "_defaultOrder": 52,
    "_isFastLaunch": false,
    "category": "Accelerated computing",
    "gpuNum": 4,
    "hideHardwareSpecs": false,
    "memoryGiB": 192,
    "name": "ml.g5.12xlarge",
    "vcpuNum": 48
   },
   {
    "_defaultOrder": 53,
    "_isFastLaunch": false,
    "category": "Accelerated computing",
    "gpuNum": 4,
    "hideHardwareSpecs": false,
    "memoryGiB": 384,
    "name": "ml.g5.24xlarge",
    "vcpuNum": 96
   },
   {
    "_defaultOrder": 54,
    "_isFastLaunch": false,
    "category": "Accelerated computing",
    "gpuNum": 8,
    "hideHardwareSpecs": false,
    "memoryGiB": 768,
    "name": "ml.g5.48xlarge",
    "vcpuNum": 192
   },
   {
    "_defaultOrder": 55,
    "_isFastLaunch": false,
    "category": "Accelerated computing",
    "gpuNum": 8,
    "hideHardwareSpecs": false,
    "memoryGiB": 1152,
    "name": "ml.p4d.24xlarge",
    "vcpuNum": 96
   },
   {
    "_defaultOrder": 56,
    "_isFastLaunch": false,
    "category": "Accelerated computing",
    "gpuNum": 8,
    "hideHardwareSpecs": false,
    "memoryGiB": 1152,
    "name": "ml.p4de.24xlarge",
    "vcpuNum": 96
   }
  ],
  "instance_type": "ml.t3.medium",
  "kernelspec": {
   "display_name": "Python 3 (Data Science)",
   "language": "python",
   "name": "python3__SAGEMAKER_INTERNAL__arn:aws:sagemaker:ap-southeast-2:452832661640:image/datascience-1.0"
  },
  "language_info": {
   "codemirror_mode": {
    "name": "ipython",
    "version": 3
   },
   "file_extension": ".py",
   "mimetype": "text/x-python",
   "name": "python",
   "nbconvert_exporter": "python",
   "pygments_lexer": "ipython3",
   "version": "3.7.10"
  }
 },
 "nbformat": 4,
 "nbformat_minor": 5
}
